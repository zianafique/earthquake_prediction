{
  "nbformat": 4,
  "nbformat_minor": 0,
  "metadata": {
    "colab": {
      "name": "earthquake_prediction.ipynb",
      "provenance": [],
      "collapsed_sections": [],
      "authorship_tag": "ABX9TyNlarP09nSls9Wiw/a2BA5c",
      "include_colab_link": true
    },
    "kernelspec": {
      "name": "python3",
      "display_name": "Python 3"
    }
  },
  "cells": [
    {
      "cell_type": "markdown",
      "metadata": {
        "id": "view-in-github",
        "colab_type": "text"
      },
      "source": [
        "<a href=\"https://colab.research.google.com/github/zianafique/earthquake_prediction/blob/master/earthquake_prediction.ipynb\" target=\"_parent\"><img src=\"https://colab.research.google.com/assets/colab-badge.svg\" alt=\"Open In Colab\"/></a>"
      ]
    },
    {
      "cell_type": "code",
      "metadata": {
        "id": "uvRrWCc0FfJT",
        "colab_type": "code",
        "outputId": "0ce0bc21-20c3-41fd-a695-35603cd71c7a",
        "colab": {
          "base_uri": "https://localhost:8080/",
          "height": 321
        }
      },
      "source": [
        "\n",
        "from IPython.display import YouTubeVideo\n",
        "YouTubeVideo('Uti2niW2BRA')"
      ],
      "execution_count": 1,
      "outputs": [
        {
          "output_type": "execute_result",
          "data": {
            "text/html": [
              "\n",
              "        <iframe\n",
              "            width=\"400\"\n",
              "            height=\"300\"\n",
              "            src=\"https://www.youtube.com/embed/Uti2niW2BRA\"\n",
              "            frameborder=\"0\"\n",
              "            allowfullscreen\n",
              "        ></iframe>\n",
              "        "
            ],
            "text/plain": [
              "<IPython.lib.display.YouTubeVideo at 0x7fccc5441240>"
            ],
            "image/jpeg": "[encoded data removed]"
          },
          "metadata": {
            "tags": []
          },
          "execution_count": 1
        }
      ]
    },
    {
      "cell_type": "code",
      "metadata": {
        "id": "C2YU4hkzLSTa",
        "colab_type": "code",
        "outputId": "79800e48-c9b1-42ec-8a03-35c4fcdf5ec5",
        "colab": {
          "base_uri": "https://localhost:8080/",
          "height": 550
        }
      },
      "source": [
        "#install and import dependencies \n",
        "#to use kaggle dataset\n",
        "!pip install kaggle\n",
        "\n",
        "#math operation\n",
        "!pip install numpy\n",
        "\n",
        "#MACHINE Learning\n",
        "!pip install catboost\n"
      ],
      "execution_count": 3,
      "outputs": [
        {
          "output_type": "stream",
          "text": [
            "Requirement already satisfied: kaggle in /usr/local/lib/python3.6/dist-packages (1.5.6)\n",
            "Requirement already satisfied: python-dateutil in /usr/local/lib/python3.6/dist-packages (from kaggle) (2.8.1)\n",
            "Requirement already satisfied: urllib3<1.25,>=1.21.1 in /usr/local/lib/python3.6/dist-packages (from kaggle) (1.24.3)\n",
            "Requirement already satisfied: six>=1.10 in /usr/local/lib/python3.6/dist-packages (from kaggle) (1.12.0)\n",
            "Requirement already satisfied: tqdm in /usr/local/lib/python3.6/dist-packages (from kaggle) (4.41.1)\n",
            "Requirement already satisfied: python-slugify in /usr/local/lib/python3.6/dist-packages (from kaggle) (4.0.0)\n",
            "Requirement already satisfied: requests in /usr/local/lib/python3.6/dist-packages (from kaggle) (2.23.0)\n",
            "Requirement already satisfied: certifi in /usr/local/lib/python3.6/dist-packages (from kaggle) (2020.4.5.1)\n",
            "Requirement already satisfied: text-unidecode>=1.3 in /usr/local/lib/python3.6/dist-packages (from python-slugify->kaggle) (1.3)\n",
            "Requirement already satisfied: idna<3,>=2.5 in /usr/local/lib/python3.6/dist-packages (from requests->kaggle) (2.9)\n",
            "Requirement already satisfied: chardet<4,>=3.0.2 in /usr/local/lib/python3.6/dist-packages (from requests->kaggle) (3.0.4)\n",
            "Requirement already satisfied: numpy in /usr/local/lib/python3.6/dist-packages (1.18.4)\n",
            "Collecting catboost\n",
            "\u001b[?25l  Downloading https://files.pythonhosted.org/packages/51/fb/6eddb2667ee55c39bd12ab6676c412726fcbc86e1c0364fda8e6c3a62bc3/catboost-0.23.1-cp36-none-manylinux1_x86_64.whl (64.7MB)\n",
            "\u001b[K     |████████████████████████████████| 64.7MB 63kB/s \n",
            "\u001b[?25hRequirement already satisfied: numpy>=1.16.0 in /usr/local/lib/python3.6/dist-packages (from catboost) (1.18.4)\n",
            "Requirement already satisfied: matplotlib in /usr/local/lib/python3.6/dist-packages (from catboost) (3.2.1)\n",
            "Requirement already satisfied: scipy in /usr/local/lib/python3.6/dist-packages (from catboost) (1.4.1)\n",
            "Requirement already satisfied: pandas>=0.24.0 in /usr/local/lib/python3.6/dist-packages (from catboost) (1.0.3)\n",
            "Requirement already satisfied: graphviz in /usr/local/lib/python3.6/dist-packages (from catboost) (0.10.1)\n",
            "Requirement already satisfied: six in /usr/local/lib/python3.6/dist-packages (from catboost) (1.12.0)\n",
            "Requirement already satisfied: plotly in /usr/local/lib/python3.6/dist-packages (from catboost) (4.4.1)\n",
            "Requirement already satisfied: kiwisolver>=1.0.1 in /usr/local/lib/python3.6/dist-packages (from matplotlib->catboost) (1.2.0)\n",
            "Requirement already satisfied: cycler>=0.10 in /usr/local/lib/python3.6/dist-packages (from matplotlib->catboost) (0.10.0)\n",
            "Requirement already satisfied: pyparsing!=2.0.4,!=2.1.2,!=2.1.6,>=2.0.1 in /usr/local/lib/python3.6/dist-packages (from matplotlib->catboost) (2.4.7)\n",
            "Requirement already satisfied: python-dateutil>=2.1 in /usr/local/lib/python3.6/dist-packages (from matplotlib->catboost) (2.8.1)\n",
            "Requirement already satisfied: pytz>=2017.2 in /usr/local/lib/python3.6/dist-packages (from pandas>=0.24.0->catboost) (2018.9)\n",
            "Requirement already satisfied: retrying>=1.3.3 in /usr/local/lib/python3.6/dist-packages (from plotly->catboost) (1.3.3)\n",
            "Installing collected packages: catboost\n",
            "Successfully installed catboost-0.23.1\n"
          ],
          "name": "stdout"
        }
      ]
    },
    {
      "cell_type": "code",
      "metadata": {
        "id": "HWWxpppjNOc7",
        "colab_type": "code",
        "colab": {}
      },
      "source": [
        "#data preprocessing\n",
        "import pandas as pd\n",
        "#math operations\n",
        "import numpy as np\n",
        "#machine learning\n",
        "from catboost import CatBoostRegressor, Pool\n",
        "#data scaling\n",
        "from sklearn.preprocessing import StandardScaler\n",
        "#hyperparameter optimization\n",
        "from sklearn.model_selection import GridSearchCV\n",
        "#support vector machine model\n",
        "from sklearn.svm import NuSVR, SVR\n",
        "#kernel ridge model\n",
        "from sklearn.kernel_ridge import KernelRidge\n",
        "#data visualization\n",
        "import matplotlib.pyplot as plt\n"
      ],
      "execution_count": 0,
      "outputs": []
    },
    {
      "cell_type": "code",
      "metadata": {
        "id": "4MdfbZSHP9tr",
        "colab_type": "code",
        "outputId": "89e0e7f7-53e9-4729-8e2c-11ff6c9214f2",
        "colab": {
          "resources": {
            "http://localhost:8080/nbextensions/google.colab/files.js": {
              "data": "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",
              "ok": true,
              "headers": [
                [
                  "content-type",
                  "application/javascript"
                ]
              ],
              "status": 200,
              "status_text": ""
            }
          },
          "base_uri": "https://localhost:8080/",
          "height": 74
        }
      },
      "source": [
        "# Colab's file access feature\n",
        "from google.colab import files\n",
        "\n",
        "#retrieve uploaded file\n",
        "uploaded = files.upload()\n",
        "\n",
        "# Then move kaggle.json into the folder where the API expects to find it.\n",
        "!mkdir -p ~/.kaggle/ && mv kaggle.json ~/.kaggle/ && chmod 600 ~/.kaggle/kaggle.json"
      ],
      "execution_count": 5,
      "outputs": [
        {
          "output_type": "display_data",
          "data": {
            "text/html": [
              "\n",
              "     <input type=\"file\" id=\"files-bbcbcb65-15e1-4a83-808a-fa85ad248006\" name=\"files[]\" multiple disabled />\n",
              "     <output id=\"result-bbcbcb65-15e1-4a83-808a-fa85ad248006\">\n",
              "      Upload widget is only available when the cell has been executed in the\n",
              "      current browser session. Please rerun this cell to enable.\n",
              "      </output>\n",
              "      <script src=\"/nbextensions/google.colab/files.js\"></script> "
            ],
            "text/plain": [
              "<IPython.core.display.HTML object>"
            ]
          },
          "metadata": {
            "tags": []
          }
        },
        {
          "output_type": "stream",
          "text": [
            "Saving kaggle.json to kaggle.json\n"
          ],
          "name": "stdout"
        }
      ]
    },
    {
      "cell_type": "code",
      "metadata": {
        "id": "8JPW-hdHQUpP",
        "colab_type": "code",
        "outputId": "86c20b66-8c64-4b9c-aa01-26b6342ad84c",
        "colab": {
          "base_uri": "https://localhost:8080/",
          "height": 425
        }
      },
      "source": [
        "\n",
        "#list competitions\n",
        "!kaggle competitions list"
      ],
      "execution_count": 6,
      "outputs": [
        {
          "output_type": "stream",
          "text": [
            "Warning: Looks like you're using an outdated API Version, please consider updating (server 1.5.6 / client 1.5.4)\n",
            "ref                                               deadline             category            reward  teamCount  userHasEntered  \n",
            "------------------------------------------------  -------------------  ---------------  ---------  ---------  --------------  \n",
            "digit-recognizer                                  2030-01-01 00:00:00  Getting Started  Knowledge       3006           False  \n",
            "titanic                                           2030-01-01 00:00:00  Getting Started  Knowledge      22236           False  \n",
            "house-prices-advanced-regression-techniques       2030-01-01 00:00:00  Getting Started  Knowledge       5147           False  \n",
            "connectx                                          2030-01-01 00:00:00  Getting Started  Knowledge        399           False  \n",
            "nlp-getting-started                               2030-01-01 00:00:00  Getting Started      Kudos       1929           False  \n",
            "competitive-data-science-predict-future-sales     2020-12-31 23:59:00  Playground           Kudos       6878           False  \n",
            "global-wheat-detection                            2020-08-04 23:59:00  Research           $15,000        409           False  \n",
            "open-images-object-detection-rvc-2020             2020-07-31 16:00:00  Playground       Knowledge          5           False  \n",
            "open-images-instance-segmentation-rvc-2020        2020-07-31 16:00:00  Playground       Knowledge          1           False  \n",
            "hashcode-photo-slideshow                          2020-07-27 23:59:00  Playground       Knowledge         25           False  \n",
            "prostate-cancer-grade-assessment                  2020-07-22 23:59:00  Featured           $25,000        408           False  \n",
            "alaska2-image-steganalysis                        2020-07-20 23:59:00  Research           $25,000        336           False  \n",
            "halite                                            2020-06-30 23:59:00  Featured             Kudos          0           False  \n",
            "m5-forecasting-accuracy                           2020-06-30 23:59:00  Featured           $50,000       4040           False  \n",
            "m5-forecasting-uncertainty                        2020-06-30 23:59:00  Featured           $50,000        445           False  \n",
            "trends-assessment-prediction                      2020-06-29 23:59:00  Research           $25,000        373           False  \n",
            "jigsaw-multilingual-toxic-comment-classification  2020-06-22 23:59:00  Featured           $50,000       1012           False  \n",
            "tweet-sentiment-extraction                        2020-06-16 23:59:00  Featured           $15,000       1298           False  \n",
            "imet-2020-fgvc7                                   2020-05-28 23:59:00  Research         Knowledge         83           False  \n",
            "abstraction-and-reasoning-challenge               2020-05-27 23:59:00  Research           $20,000        846           False  \n"
          ],
          "name": "stdout"
        }
      ]
    },
    {
      "cell_type": "code",
      "metadata": {
        "id": "EUQ6J3e1QbMF",
        "colab_type": "code",
        "outputId": "2b3bab4e-515b-4455-bae3-5b5c4a3176c9",
        "colab": {
          "base_uri": "https://localhost:8080/",
          "height": 1000
        }
      },
      "source": [
        "#download earthquake data, will take 30-60 seconds\n",
        "!kaggle competitions download -c LANL-Earthquake-Prediction"
      ],
      "execution_count": 7,
      "outputs": [
        {
          "output_type": "stream",
          "text": [
            "Warning: Looks like you're using an outdated API Version, please consider updating (server 1.5.6 / client 1.5.4)\n",
            "Downloading seg_010eab.csv to /content\n",
            "  0% 0.00/316k [00:00<?, ?B/s]\n",
            "100% 316k/316k [00:00<00:00, 43.1MB/s]\n",
            "Downloading seg_00be11.csv to /content\n",
            "  0% 0.00/330k [00:00<?, ?B/s]\n",
            "100% 330k/330k [00:00<00:00, 108MB/s]\n",
            "Downloading seg_0012b5.csv to /content\n",
            "  0% 0.00/321k [00:00<?, ?B/s]\n",
            "100% 321k/321k [00:00<00:00, 101MB/s]\n",
            "Downloading seg_0125d9.csv to /content\n",
            "  0% 0.00/320k [00:00<?, ?B/s]\n",
            "100% 320k/320k [00:00<00:00, 106MB/s]\n",
            "Downloading seg_0042cc.csv to /content\n",
            "  0% 0.00/319k [00:00<?, ?B/s]\n",
            "100% 319k/319k [00:00<00:00, 103MB/s]\n",
            "Downloading seg_00a37e.csv to /content\n",
            "  0% 0.00/332k [00:00<?, ?B/s]\n",
            "100% 332k/332k [00:00<00:00, 107MB/s]\n",
            "Downloading seg_004ee5.csv to /content\n",
            "  0% 0.00/324k [00:00<?, ?B/s]\n",
            "100% 324k/324k [00:00<00:00, 105MB/s]\n",
            "Downloading seg_004cd2.csv to /content\n",
            "  0% 0.00/315k [00:00<?, ?B/s]\n",
            "100% 315k/315k [00:00<00:00, 97.8MB/s]\n",
            "Downloading seg_007a37.csv to /content\n",
            "  0% 0.00/325k [00:00<?, ?B/s]\n",
            "100% 325k/325k [00:00<00:00, 105MB/s]\n",
            "Downloading seg_00184e.csv to /content\n",
            "  0% 0.00/320k [00:00<?, ?B/s]\n",
            "100% 320k/320k [00:00<00:00, 102MB/s]\n",
            "Downloading seg_003339.csv to /content\n",
            "  0% 0.00/310k [00:00<?, ?B/s]\n",
            "100% 310k/310k [00:00<00:00, 94.1MB/s]\n",
            "Downloading seg_00648a.csv to /content\n",
            "  0% 0.00/329k [00:00<?, ?B/s]\n",
            "100% 329k/329k [00:00<00:00, 107MB/s]\n",
            "Downloading seg_006e4a.csv to /content\n",
            "  0% 0.00/325k [00:00<?, ?B/s]\n",
            "100% 325k/325k [00:00<00:00, 108MB/s]\n",
            "Downloading seg_004f1f.csv to /content\n",
            "  0% 0.00/324k [00:00<?, ?B/s]\n",
            "100% 324k/324k [00:00<00:00, 104MB/s]\n",
            "Downloading seg_00e5f7.csv to /content\n",
            "  0% 0.00/319k [00:00<?, ?B/s]\n",
            "100% 319k/319k [00:00<00:00, 98.0MB/s]\n",
            "Downloading seg_004314.csv to /content\n",
            "  0% 0.00/360k [00:00<?, ?B/s]\n",
            "100% 360k/360k [00:00<00:00, 106MB/s]\n",
            "Downloading seg_00c35b.csv to /content\n",
            "  0% 0.00/312k [00:00<?, ?B/s]\n",
            "100% 312k/312k [00:00<00:00, 94.4MB/s]\n",
            "Downloading seg_00f3b9.csv to /content\n",
            "  0% 0.00/336k [00:00<?, ?B/s]\n",
            "100% 336k/336k [00:00<00:00, 100MB/s]\n",
            "Downloading seg_00030f.csv to /content\n",
            "  0% 0.00/321k [00:00<?, ?B/s]\n",
            "100% 321k/321k [00:00<00:00, 97.9MB/s]\n",
            "Downloading seg_00cc91.csv to /content\n",
            "  0% 0.00/329k [00:00<?, ?B/s]\n",
            "100% 329k/329k [00:00<00:00, 107MB/s]\n",
            "Downloading train.csv.zip to /content\n",
            "100% 2.03G/2.03G [00:24<00:00, 93.4MB/s]\n",
            "100% 2.03G/2.03G [00:24<00:00, 87.4MB/s]\n",
            "Downloading sample_submission.csv to /content\n",
            "  0% 0.00/33.3k [00:00<?, ?B/s]\n",
            "100% 33.3k/33.3k [00:00<00:00, 29.5MB/s]\n"
          ],
          "name": "stdout"
        }
      ]
    },
    {
      "cell_type": "code",
      "metadata": {
        "id": "b4MWlOejQz62",
        "colab_type": "code",
        "outputId": "a39825a1-e9e7-49d3-a97c-4af6b0832f83",
        "colab": {
          "base_uri": "https://localhost:8080/",
          "height": 265
        }
      },
      "source": [
        "#unzip training data for usage, will take about 5 minutes (its big)\n",
        "!ls\n",
        "!unzip train.csv.zip\n",
        "!ls"
      ],
      "execution_count": 8,
      "outputs": [
        {
          "output_type": "stream",
          "text": [
            "sample_data\t       seg_0042cc.csv  seg_006e4a.csv  seg_00e5f7.csv\n",
            "sample_submission.csv  seg_004314.csv  seg_007a37.csv  seg_00f3b9.csv\n",
            "seg_00030f.csv\t       seg_004cd2.csv  seg_00a37e.csv  seg_010eab.csv\n",
            "seg_0012b5.csv\t       seg_004ee5.csv  seg_00be11.csv  seg_0125d9.csv\n",
            "seg_00184e.csv\t       seg_004f1f.csv  seg_00c35b.csv  train.csv.zip\n",
            "seg_003339.csv\t       seg_00648a.csv  seg_00cc91.csv\n",
            "Archive:  train.csv.zip\n",
            "  inflating: train.csv               \n",
            "sample_data\t       seg_0042cc.csv  seg_006e4a.csv  seg_00e5f7.csv\n",
            "sample_submission.csv  seg_004314.csv  seg_007a37.csv  seg_00f3b9.csv\n",
            "seg_00030f.csv\t       seg_004cd2.csv  seg_00a37e.csv  seg_010eab.csv\n",
            "seg_0012b5.csv\t       seg_004ee5.csv  seg_00be11.csv  seg_0125d9.csv\n",
            "seg_00184e.csv\t       seg_004f1f.csv  seg_00c35b.csv  train.csv\n",
            "seg_003339.csv\t       seg_00648a.csv  seg_00cc91.csv  train.csv.zip\n"
          ],
          "name": "stdout"
        }
      ]
    },
    {
      "cell_type": "code",
      "metadata": {
        "id": "aY2N2wiFXQIT",
        "colab_type": "code",
        "colab": {}
      },
      "source": [
        "\n",
        "#Extract training data into a dataframe for further manipulation\n",
        "train= pd.read_csv('train.csv', nrows=6000000, dtype={'acoustic_data': np.int16,'Time_of_failure' : np.float64})"
      ],
      "execution_count": 0,
      "outputs": []
    },
    {
      "cell_type": "code",
      "metadata": {
        "id": "yaWxbAA7N3S7",
        "colab_type": "code",
        "colab": {
          "base_uri": "https://localhost:8080/",
          "height": 347
        },
        "outputId": "9af876f3-d910-40fc-f458-679c66c6d926"
      },
      "source": [
        "train.head(10)"
      ],
      "execution_count": 10,
      "outputs": [
        {
          "output_type": "execute_result",
          "data": {
            "text/html": [
              "<div>\n",
              "<style scoped>\n",
              "    .dataframe tbody tr th:only-of-type {\n",
              "        vertical-align: middle;\n",
              "    }\n",
              "\n",
              "    .dataframe tbody tr th {\n",
              "        vertical-align: top;\n",
              "    }\n",
              "\n",
              "    .dataframe thead th {\n",
              "        text-align: right;\n",
              "    }\n",
              "</style>\n",
              "<table border=\"1\" class=\"dataframe\">\n",
              "  <thead>\n",
              "    <tr style=\"text-align: right;\">\n",
              "      <th></th>\n",
              "      <th>acoustic_data</th>\n",
              "      <th>time_to_failure</th>\n",
              "    </tr>\n",
              "  </thead>\n",
              "  <tbody>\n",
              "    <tr>\n",
              "      <th>0</th>\n",
              "      <td>12</td>\n",
              "      <td>1.4691</td>\n",
              "    </tr>\n",
              "    <tr>\n",
              "      <th>1</th>\n",
              "      <td>6</td>\n",
              "      <td>1.4691</td>\n",
              "    </tr>\n",
              "    <tr>\n",
              "      <th>2</th>\n",
              "      <td>8</td>\n",
              "      <td>1.4691</td>\n",
              "    </tr>\n",
              "    <tr>\n",
              "      <th>3</th>\n",
              "      <td>5</td>\n",
              "      <td>1.4691</td>\n",
              "    </tr>\n",
              "    <tr>\n",
              "      <th>4</th>\n",
              "      <td>8</td>\n",
              "      <td>1.4691</td>\n",
              "    </tr>\n",
              "    <tr>\n",
              "      <th>5</th>\n",
              "      <td>8</td>\n",
              "      <td>1.4691</td>\n",
              "    </tr>\n",
              "    <tr>\n",
              "      <th>6</th>\n",
              "      <td>9</td>\n",
              "      <td>1.4691</td>\n",
              "    </tr>\n",
              "    <tr>\n",
              "      <th>7</th>\n",
              "      <td>7</td>\n",
              "      <td>1.4691</td>\n",
              "    </tr>\n",
              "    <tr>\n",
              "      <th>8</th>\n",
              "      <td>-5</td>\n",
              "      <td>1.4691</td>\n",
              "    </tr>\n",
              "    <tr>\n",
              "      <th>9</th>\n",
              "      <td>3</td>\n",
              "      <td>1.4691</td>\n",
              "    </tr>\n",
              "  </tbody>\n",
              "</table>\n",
              "</div>"
            ],
            "text/plain": [
              "   acoustic_data  time_to_failure\n",
              "0             12           1.4691\n",
              "1              6           1.4691\n",
              "2              8           1.4691\n",
              "3              5           1.4691\n",
              "4              8           1.4691\n",
              "5              8           1.4691\n",
              "6              9           1.4691\n",
              "7              7           1.4691\n",
              "8             -5           1.4691\n",
              "9              3           1.4691"
            ]
          },
          "metadata": {
            "tags": []
          },
          "execution_count": 10
        }
      ]
    },
    {
      "cell_type": "code",
      "metadata": {
        "id": "nIMmfsTpN_fQ",
        "colab_type": "code",
        "colab": {
          "base_uri": "https://localhost:8080/",
          "height": 498
        },
        "outputId": "01cd9fd6-172f-4898-e505-29d0f7a78ca8"
      },
      "source": [
        "#visualize 1% of samples data, first 100 datapoints\n",
        "train_ad_sample_df = train['acoustic_data'].values[::100]\n",
        "train_ttf_sample_df = train['time_to_failure'].values[::100]\n",
        "\n",
        "#function for plotting based on both features\n",
        "def plot_acc_ttf_data(train_ad_sample_df, train_ttf_sample_df, title=\"Acoustic data and time to failure: 1% sampled data\"):\n",
        "    fig, ax1 = plt.subplots(figsize=(12, 8))\n",
        "    plt.title(title)\n",
        "    plt.plot(train_ad_sample_df, color='r')\n",
        "    ax1.set_ylabel('acoustic data', color='r')\n",
        "    plt.legend(['acoustic data'], loc=(0.01, 0.95))\n",
        "    ax2 = ax1.twinx()\n",
        "    plt.plot(train_ttf_sample_df, color='b')\n",
        "    ax2.set_ylabel('time to failure', color='b')\n",
        "    plt.legend(['time to failure'], loc=(0.01, 0.9))\n",
        "    plt.grid(True)\n",
        "\n",
        "plot_acc_ttf_data(train_ad_sample_df, train_ttf_sample_df)\n",
        "del train_ad_sample_df\n",
        "del train_ttf_sample_df"
      ],
      "execution_count": 11,
      "outputs": [
        {
          "output_type": "display_data",
          "data": {
            "image/png": "[encoded data removed]",
            "text/plain": [
              "<Figure size 864x576 with 2 Axes>"
            ]
          },
          "metadata": {
            "tags": [],
            "needs_background": "light"
          }
        }
      ]
    },
    {
      "cell_type": "code",
      "metadata": {
        "id": "LIqGnq_CPGAc",
        "colab_type": "code",
        "colab": {}
      },
      "source": [
        "\n",
        "# Step 4 - Feature Engineering and signifiance of these statistical features\n",
        "\n",
        "#lets create a function to generate some statistical features based on the training data\n",
        "def gen_features(X):\n",
        "    strain = []\n",
        "    strain.append(X.mean())\n",
        "    strain.append(X.std())\n",
        "    strain.append(X.min())\n",
        "    strain.append(X.max())\n",
        "    strain.append(X.kurtosis())\n",
        "    strain.append(X.skew())\n",
        "    strain.append(np.quantile(X,0.01))\n",
        "    strain.append(np.quantile(X,0.05))\n",
        "    strain.append(np.quantile(X,0.95))\n",
        "    strain.append(np.quantile(X,0.99))\n",
        "    strain.append(np.abs(X).max())\n",
        "    strain.append(np.abs(X).mean())\n",
        "    strain.append(np.abs(X).std())\n",
        "    return pd.Series(strain)"
      ],
      "execution_count": 0,
      "outputs": []
    },
    {
      "cell_type": "code",
      "metadata": {
        "id": "Db-UGLQQQxhU",
        "colab_type": "code",
        "colab": {
          "base_uri": "https://localhost:8080/",
          "height": 52
        },
        "outputId": "5416e538-8eea-4987-b7d8-8c59b48f22b7"
      },
      "source": [
        "train = pd.read_csv('train.csv', iterator=True, chunksize=150_000, dtype={'acoustic_data': np.int16, 'time_to_failure': np.float64})\n",
        "\n",
        "X_train = pd.DataFrame()\n",
        "y_train = pd.Series()\n",
        "for df in train:\n",
        "    ch = gen_features(df['acoustic_data'])\n",
        "    X_train = X_train.append(ch, ignore_index=True)\n",
        "    y_train = y_train.append(pd.Series(df['time_to_failure'].values[-1]))"
      ],
      "execution_count": 13,
      "outputs": [
        {
          "output_type": "stream",
          "text": [
            "/usr/local/lib/python3.6/dist-packages/ipykernel_launcher.py:4: DeprecationWarning: The default dtype for empty Series will be 'object' instead of 'float64' in a future version. Specify a dtype explicitly to silence this warning.\n",
            "  after removing the cwd from sys.path.\n"
          ],
          "name": "stderr"
        }
      ]
    },
    {
      "cell_type": "code",
      "metadata": {
        "id": "2qtffdJtSzwh",
        "colab_type": "code",
        "colab": {
          "base_uri": "https://localhost:8080/",
          "height": 287
        },
        "outputId": "bdd1cf12-d6ff-49b6-9bee-37ca7fc049d7"
      },
      "source": [
        "X_train.describe()\n"
      ],
      "execution_count": 16,
      "outputs": [
        {
          "output_type": "execute_result",
          "data": {
            "text/html": [
              "<div>\n",
              "<style scoped>\n",
              "    .dataframe tbody tr th:only-of-type {\n",
              "        vertical-align: middle;\n",
              "    }\n",
              "\n",
              "    .dataframe tbody tr th {\n",
              "        vertical-align: top;\n",
              "    }\n",
              "\n",
              "    .dataframe thead th {\n",
              "        text-align: right;\n",
              "    }\n",
              "</style>\n",
              "<table border=\"1\" class=\"dataframe\">\n",
              "  <thead>\n",
              "    <tr style=\"text-align: right;\">\n",
              "      <th></th>\n",
              "      <th>0</th>\n",
              "      <th>1</th>\n",
              "      <th>2</th>\n",
              "      <th>3</th>\n",
              "      <th>4</th>\n",
              "      <th>5</th>\n",
              "      <th>6</th>\n",
              "      <th>7</th>\n",
              "      <th>8</th>\n",
              "      <th>9</th>\n",
              "      <th>10</th>\n",
              "      <th>11</th>\n",
              "      <th>12</th>\n",
              "    </tr>\n",
              "  </thead>\n",
              "  <tbody>\n",
              "    <tr>\n",
              "      <th>count</th>\n",
              "      <td>4195.000000</td>\n",
              "      <td>4195.000000</td>\n",
              "      <td>4195.000000</td>\n",
              "      <td>4195.000000</td>\n",
              "      <td>4195.000000</td>\n",
              "      <td>4195.000000</td>\n",
              "      <td>4195.000000</td>\n",
              "      <td>4195.000000</td>\n",
              "      <td>4195.000000</td>\n",
              "      <td>4195.000000</td>\n",
              "      <td>4195.000000</td>\n",
              "      <td>4195.000000</td>\n",
              "      <td>4195.000000</td>\n",
              "    </tr>\n",
              "    <tr>\n",
              "      <th>mean</th>\n",
              "      <td>4.519475</td>\n",
              "      <td>6.547788</td>\n",
              "      <td>-149.190942</td>\n",
              "      <td>163.522288</td>\n",
              "      <td>68.297997</td>\n",
              "      <td>0.125830</td>\n",
              "      <td>-11.224603</td>\n",
              "      <td>-2.184779</td>\n",
              "      <td>11.231716</td>\n",
              "      <td>20.321890</td>\n",
              "      <td>170.046246</td>\n",
              "      <td>5.547367</td>\n",
              "      <td>5.750165</td>\n",
              "    </tr>\n",
              "    <tr>\n",
              "      <th>std</th>\n",
              "      <td>0.256049</td>\n",
              "      <td>8.503939</td>\n",
              "      <td>265.087984</td>\n",
              "      <td>272.930331</td>\n",
              "      <td>70.532565</td>\n",
              "      <td>0.477901</td>\n",
              "      <td>14.106852</td>\n",
              "      <td>2.346558</td>\n",
              "      <td>2.358067</td>\n",
              "      <td>14.225526</td>\n",
              "      <td>296.887015</td>\n",
              "      <td>1.517038</td>\n",
              "      <td>8.339211</td>\n",
              "    </tr>\n",
              "    <tr>\n",
              "      <th>min</th>\n",
              "      <td>3.596313</td>\n",
              "      <td>2.802720</td>\n",
              "      <td>-5515.000000</td>\n",
              "      <td>23.000000</td>\n",
              "      <td>0.648602</td>\n",
              "      <td>-4.091826</td>\n",
              "      <td>-336.000000</td>\n",
              "      <td>-39.000000</td>\n",
              "      <td>9.000000</td>\n",
              "      <td>11.000000</td>\n",
              "      <td>23.000000</td>\n",
              "      <td>4.147707</td>\n",
              "      <td>2.589085</td>\n",
              "    </tr>\n",
              "    <tr>\n",
              "      <th>25%</th>\n",
              "      <td>4.349497</td>\n",
              "      <td>4.478637</td>\n",
              "      <td>-154.000000</td>\n",
              "      <td>92.000000</td>\n",
              "      <td>28.090227</td>\n",
              "      <td>-0.040779</td>\n",
              "      <td>-14.000000</td>\n",
              "      <td>-3.000000</td>\n",
              "      <td>10.000000</td>\n",
              "      <td>15.000000</td>\n",
              "      <td>94.000000</td>\n",
              "      <td>5.061843</td>\n",
              "      <td>3.862810</td>\n",
              "    </tr>\n",
              "    <tr>\n",
              "      <th>50%</th>\n",
              "      <td>4.522147</td>\n",
              "      <td>5.618798</td>\n",
              "      <td>-111.000000</td>\n",
              "      <td>123.000000</td>\n",
              "      <td>45.816625</td>\n",
              "      <td>0.085620</td>\n",
              "      <td>-10.000000</td>\n",
              "      <td>-2.000000</td>\n",
              "      <td>11.000000</td>\n",
              "      <td>19.000000</td>\n",
              "      <td>127.000000</td>\n",
              "      <td>5.380853</td>\n",
              "      <td>4.781513</td>\n",
              "    </tr>\n",
              "    <tr>\n",
              "      <th>75%</th>\n",
              "      <td>4.693350</td>\n",
              "      <td>6.880904</td>\n",
              "      <td>-79.000000</td>\n",
              "      <td>170.000000</td>\n",
              "      <td>78.664202</td>\n",
              "      <td>0.253930</td>\n",
              "      <td>-6.000000</td>\n",
              "      <td>-1.000000</td>\n",
              "      <td>12.000000</td>\n",
              "      <td>23.000000</td>\n",
              "      <td>175.000000</td>\n",
              "      <td>5.748553</td>\n",
              "      <td>5.887947</td>\n",
              "    </tr>\n",
              "    <tr>\n",
              "      <th>max</th>\n",
              "      <td>5.391993</td>\n",
              "      <td>153.703569</td>\n",
              "      <td>-15.000000</td>\n",
              "      <td>5444.000000</td>\n",
              "      <td>631.158927</td>\n",
              "      <td>4.219429</td>\n",
              "      <td>-2.000000</td>\n",
              "      <td>0.000000</td>\n",
              "      <td>50.000000</td>\n",
              "      <td>337.000000</td>\n",
              "      <td>5515.000000</td>\n",
              "      <td>32.762073</td>\n",
              "      <td>150.432368</td>\n",
              "    </tr>\n",
              "  </tbody>\n",
              "</table>\n",
              "</div>"
            ],
            "text/plain": [
              "                0            1   ...           11           12\n",
              "count  4195.000000  4195.000000  ...  4195.000000  4195.000000\n",
              "mean      4.519475     6.547788  ...     5.547367     5.750165\n",
              "std       0.256049     8.503939  ...     1.517038     8.339211\n",
              "min       3.596313     2.802720  ...     4.147707     2.589085\n",
              "25%       4.349497     4.478637  ...     5.061843     3.862810\n",
              "50%       4.522147     5.618798  ...     5.380853     4.781513\n",
              "75%       4.693350     6.880904  ...     5.748553     5.887947\n",
              "max       5.391993   153.703569  ...    32.762073   150.432368\n",
              "\n",
              "[8 rows x 13 columns]"
            ]
          },
          "metadata": {
            "tags": []
          },
          "execution_count": 16
        }
      ]
    },
    {
      "cell_type": "code",
      "metadata": {
        "id": "lJJ3wMpLUw7o",
        "colab_type": "code",
        "colab": {
          "base_uri": "https://localhost:8080/",
          "height": 34
        },
        "outputId": "43aa44bf-f536-47ab-9181-f81bc0bc04e9"
      },
      "source": [
        "\n",
        "#Model #1 - Catboost\n",
        "\n",
        "train_pool = Pool(X_train, y_train)\n",
        "m = CatBoostRegressor(iterations=10000, loss_function='MAE', boosting_type='Ordered')\n",
        "m.fit(X_train, y_train, silent=True)\n",
        "m.best_score_"
      ],
      "execution_count": 17,
      "outputs": [
        {
          "output_type": "execute_result",
          "data": {
            "text/plain": [
              "{'learn': {'MAE': 1.3776750114110539}}"
            ]
          },
          "metadata": {
            "tags": []
          },
          "execution_count": 17
        }
      ]
    },
    {
      "cell_type": "code",
      "metadata": {
        "id": "b3Jtr5veVYkL",
        "colab_type": "code",
        "colab": {
          "base_uri": "https://localhost:8080/",
          "height": 52
        },
        "outputId": "fdf6c315-c821-4091-812d-11358017eb98"
      },
      "source": [
        "#Model #2 - Support Vector Machine w/ RBF + Grid Search\n",
        "\n",
        "from sklearn.preprocessing import StandardScaler\n",
        "from sklearn.model_selection import GridSearchCV\n",
        "from sklearn.svm import NuSVR, SVR\n",
        "\n",
        "\n",
        "scaler = StandardScaler()\n",
        "scaler.fit(X_train)\n",
        "X_train_scaled = scaler.transform(X_train)\n",
        "\n",
        "parameters = [{'gamma': [0.001, 0.005, 0.01, 0.02, 0.05, 0.1],\n",
        "               'C': [0.1, 0.2, 0.25, 0.5, 1, 1.5, 2]}]\n",
        "               #'nu': [0.75, 0.8, 0.85, 0.9, 0.95, 0.97]}]\n",
        "\n",
        "reg1 = GridSearchCV(SVR(kernel='rbf', tol=0.01), parameters, cv=5, scoring='neg_mean_absolute_error')\n",
        "reg1.fit(X_train_scaled, y_train.values.flatten())\n",
        "y_pred1 = reg1.predict(X_train_scaled)\n",
        "\n",
        "print(\"Best CV score: {:.4f}\".format(reg1.best_score_))\n",
        "print(reg1.best_params_)"
      ],
      "execution_count": 18,
      "outputs": [
        {
          "output_type": "stream",
          "text": [
            "Best CV score: -2.1722\n",
            "{'C': 2, 'gamma': 0.02}\n"
          ],
          "name": "stdout"
        }
      ]
    }
  ]
}